{
 "cells": [
  {
   "cell_type": "code",
   "execution_count": 62,
   "id": "d0c17db1",
   "metadata": {},
   "outputs": [],
   "source": [
    "import numpy as np\n",
    "import pandas as pd\n",
    "import matplotlib.pyplot as plt"
   ]
  },
  {
   "cell_type": "code",
   "execution_count": 63,
   "id": "991482e5",
   "metadata": {},
   "outputs": [
    {
     "data": {
      "text/html": [
       "<div>\n",
       "<style scoped>\n",
       "    .dataframe tbody tr th:only-of-type {\n",
       "        vertical-align: middle;\n",
       "    }\n",
       "\n",
       "    .dataframe tbody tr th {\n",
       "        vertical-align: top;\n",
       "    }\n",
       "\n",
       "    .dataframe thead th {\n",
       "        text-align: right;\n",
       "    }\n",
       "</style>\n",
       "<table border=\"1\" class=\"dataframe\">\n",
       "  <thead>\n",
       "    <tr style=\"text-align: right;\">\n",
       "      <th></th>\n",
       "      <th>CustomerID</th>\n",
       "      <th>Gender</th>\n",
       "      <th>Age</th>\n",
       "      <th>Annual Income (k$)</th>\n",
       "      <th>Spending Score (1-100)</th>\n",
       "    </tr>\n",
       "  </thead>\n",
       "  <tbody>\n",
       "    <tr>\n",
       "      <th>0</th>\n",
       "      <td>1</td>\n",
       "      <td>Male</td>\n",
       "      <td>19</td>\n",
       "      <td>15</td>\n",
       "      <td>39</td>\n",
       "    </tr>\n",
       "    <tr>\n",
       "      <th>1</th>\n",
       "      <td>2</td>\n",
       "      <td>Male</td>\n",
       "      <td>21</td>\n",
       "      <td>15</td>\n",
       "      <td>81</td>\n",
       "    </tr>\n",
       "    <tr>\n",
       "      <th>2</th>\n",
       "      <td>3</td>\n",
       "      <td>Female</td>\n",
       "      <td>20</td>\n",
       "      <td>16</td>\n",
       "      <td>6</td>\n",
       "    </tr>\n",
       "    <tr>\n",
       "      <th>3</th>\n",
       "      <td>4</td>\n",
       "      <td>Female</td>\n",
       "      <td>23</td>\n",
       "      <td>16</td>\n",
       "      <td>77</td>\n",
       "    </tr>\n",
       "    <tr>\n",
       "      <th>4</th>\n",
       "      <td>5</td>\n",
       "      <td>Female</td>\n",
       "      <td>31</td>\n",
       "      <td>17</td>\n",
       "      <td>40</td>\n",
       "    </tr>\n",
       "  </tbody>\n",
       "</table>\n",
       "</div>"
      ],
      "text/plain": [
       "   CustomerID  Gender  Age  Annual Income (k$)  Spending Score (1-100)\n",
       "0           1    Male   19                  15                      39\n",
       "1           2    Male   21                  15                      81\n",
       "2           3  Female   20                  16                       6\n",
       "3           4  Female   23                  16                      77\n",
       "4           5  Female   31                  17                      40"
      ]
     },
     "execution_count": 63,
     "metadata": {},
     "output_type": "execute_result"
    }
   ],
   "source": [
    "df=pd.read_csv('D:/Downloads/Week/Mall_Customers.csv')\n",
    "df.head()"
   ]
  },
  {
   "cell_type": "code",
   "execution_count": 64,
   "id": "69ee4e5c",
   "metadata": {},
   "outputs": [
    {
     "data": {
      "text/plain": [
       "(200, 5)"
      ]
     },
     "execution_count": 64,
     "metadata": {},
     "output_type": "execute_result"
    }
   ],
   "source": [
    "df.shape"
   ]
  },
  {
   "cell_type": "code",
   "execution_count": 65,
   "id": "62999cc8",
   "metadata": {},
   "outputs": [],
   "source": [
    "df=df.drop('CustomerID',axis=True)"
   ]
  },
  {
   "cell_type": "code",
   "execution_count": 66,
   "id": "b67a92d5",
   "metadata": {},
   "outputs": [
    {
     "data": {
      "text/plain": [
       "np.int64(0)"
      ]
     },
     "execution_count": 66,
     "metadata": {},
     "output_type": "execute_result"
    }
   ],
   "source": [
    "df.duplicated().sum()"
   ]
  },
  {
   "cell_type": "code",
   "execution_count": 67,
   "id": "5982bff3",
   "metadata": {},
   "outputs": [
    {
     "data": {
      "text/plain": [
       "Gender                    0\n",
       "Age                       0\n",
       "Annual Income (k$)        0\n",
       "Spending Score (1-100)    0\n",
       "dtype: int64"
      ]
     },
     "execution_count": 67,
     "metadata": {},
     "output_type": "execute_result"
    }
   ],
   "source": [
    "df.isnull().sum()"
   ]
  },
  {
   "cell_type": "code",
   "execution_count": 68,
   "id": "87626b1c",
   "metadata": {},
   "outputs": [],
   "source": [
    "from sklearn.preprocessing import StandardScaler\n",
    "from sklearn.cluster import KMeans\n",
    "from sklearn.metrics import silhouette_score"
   ]
  },
  {
   "cell_type": "code",
   "execution_count": 69,
   "id": "60f7ed2f",
   "metadata": {},
   "outputs": [],
   "source": [
    "df = pd.get_dummies(df, columns=['Gender'], prefix='Gender', drop_first=False)"
   ]
  },
  {
   "cell_type": "code",
   "execution_count": 39,
   "id": "456d656d",
   "metadata": {},
   "outputs": [
    {
     "data": {
      "text/html": [
       "<div>\n",
       "<style scoped>\n",
       "    .dataframe tbody tr th:only-of-type {\n",
       "        vertical-align: middle;\n",
       "    }\n",
       "\n",
       "    .dataframe tbody tr th {\n",
       "        vertical-align: top;\n",
       "    }\n",
       "\n",
       "    .dataframe thead th {\n",
       "        text-align: right;\n",
       "    }\n",
       "</style>\n",
       "<table border=\"1\" class=\"dataframe\">\n",
       "  <thead>\n",
       "    <tr style=\"text-align: right;\">\n",
       "      <th></th>\n",
       "      <th>Age</th>\n",
       "      <th>Annual Income (k$)</th>\n",
       "      <th>Spending Score (1-100)</th>\n",
       "      <th>Gender_Female</th>\n",
       "      <th>Gender_Male</th>\n",
       "    </tr>\n",
       "  </thead>\n",
       "  <tbody>\n",
       "    <tr>\n",
       "      <th>0</th>\n",
       "      <td>19</td>\n",
       "      <td>15</td>\n",
       "      <td>39</td>\n",
       "      <td>False</td>\n",
       "      <td>True</td>\n",
       "    </tr>\n",
       "    <tr>\n",
       "      <th>1</th>\n",
       "      <td>21</td>\n",
       "      <td>15</td>\n",
       "      <td>81</td>\n",
       "      <td>False</td>\n",
       "      <td>True</td>\n",
       "    </tr>\n",
       "    <tr>\n",
       "      <th>2</th>\n",
       "      <td>20</td>\n",
       "      <td>16</td>\n",
       "      <td>6</td>\n",
       "      <td>True</td>\n",
       "      <td>False</td>\n",
       "    </tr>\n",
       "    <tr>\n",
       "      <th>3</th>\n",
       "      <td>23</td>\n",
       "      <td>16</td>\n",
       "      <td>77</td>\n",
       "      <td>True</td>\n",
       "      <td>False</td>\n",
       "    </tr>\n",
       "    <tr>\n",
       "      <th>4</th>\n",
       "      <td>31</td>\n",
       "      <td>17</td>\n",
       "      <td>40</td>\n",
       "      <td>True</td>\n",
       "      <td>False</td>\n",
       "    </tr>\n",
       "  </tbody>\n",
       "</table>\n",
       "</div>"
      ],
      "text/plain": [
       "   Age  Annual Income (k$)  Spending Score (1-100)  Gender_Female  Gender_Male\n",
       "0   19                  15                      39          False         True\n",
       "1   21                  15                      81          False         True\n",
       "2   20                  16                       6           True        False\n",
       "3   23                  16                      77           True        False\n",
       "4   31                  17                      40           True        False"
      ]
     },
     "execution_count": 39,
     "metadata": {},
     "output_type": "execute_result"
    }
   ],
   "source": [
    "df.head()"
   ]
  },
  {
   "cell_type": "code",
   "execution_count": 70,
   "id": "a35b0d21",
   "metadata": {},
   "outputs": [],
   "source": [
    "\n",
    "\n",
    "scalar=StandardScaler()\n",
    "df_scaled=scalar.fit_transform(df)"
   ]
  },
  {
   "cell_type": "code",
   "execution_count": 71,
   "id": "c17958d3",
   "metadata": {},
   "outputs": [
    {
     "data": {
      "image/png": "[encoded data removed]",
      "text/plain": [
       "<Figure size 1000x600 with 1 Axes>"
      ]
     },
     "metadata": {},
     "output_type": "display_data"
    }
   ],
   "source": [
    "from sklearn.decomposition import PCA\n",
    "pca=PCA()\n",
    "pca.fit(df_scaled)\n",
    "explained_variance_ratio=pca.explained_variance_ratio_\n",
    "cumulative_varinace_ratio=np.cumsum(explained_variance_ratio)\n",
    "plt.figure(figsize=(10,6))\n",
    "plt.plot(range(1,len(cumulative_varinace_ratio)+1),cumulative_varinace_ratio,marker='o')\n",
    "plt.xlabel('Number of Principal Components')\n",
    "plt.ylabel('Cumulative Explained Varinace Ratio')\n",
    "plt.title('Cumulative Explained Varinace Ration vs Number od Components')\n",
    "plt.show()"
   ]
  },
  {
   "cell_type": "code",
   "execution_count": 112,
   "id": "af89ac88",
   "metadata": {},
   "outputs": [
    {
     "name": "stdout",
     "output_type": "stream",
     "text": [
      "[[-0.11855625 -0.07390773  0.11585755  0.69536289 -0.69536289]\n",
      " [-0.69484399  0.0910454   0.69546061 -0.11233235  0.11233235]\n",
      " [ 0.05058487  0.99308209 -0.05942693  0.06203858 -0.06203858]]\n"
     ]
    }
   ],
   "source": [
    "pca=PCA(n_components=3)\n",
    "df_pca=pd.DataFrame(pca.fit_transform(df_scaled))\n",
    "print(pca.components_)"
   ]
  },
  {
   "cell_type": "code",
   "execution_count": 73,
   "id": "fadfdd31",
   "metadata": {},
   "outputs": [
    {
     "data": {
      "text/html": [
       "<div>\n",
       "<style scoped>\n",
       "    .dataframe tbody tr th:only-of-type {\n",
       "        vertical-align: middle;\n",
       "    }\n",
       "\n",
       "    .dataframe tbody tr th {\n",
       "        vertical-align: top;\n",
       "    }\n",
       "\n",
       "    .dataframe thead th {\n",
       "        text-align: right;\n",
       "    }\n",
       "</style>\n",
       "<table border=\"1\" class=\"dataframe\">\n",
       "  <thead>\n",
       "    <tr style=\"text-align: right;\">\n",
       "      <th></th>\n",
       "      <th>0</th>\n",
       "      <th>1</th>\n",
       "      <th>2</th>\n",
       "    </tr>\n",
       "  </thead>\n",
       "  <tbody>\n",
       "    <tr>\n",
       "      <th>0</th>\n",
       "      <td>-1.321908</td>\n",
       "      <td>0.782594</td>\n",
       "      <td>-1.913170</td>\n",
       "    </tr>\n",
       "    <tr>\n",
       "      <th>1</th>\n",
       "      <td>-1.150019</td>\n",
       "      <td>1.816813</td>\n",
       "      <td>-2.002805</td>\n",
       "    </tr>\n",
       "    <tr>\n",
       "      <th>2</th>\n",
       "      <td>1.320033</td>\n",
       "      <td>-0.607360</td>\n",
       "      <td>-1.545541</td>\n",
       "    </tr>\n",
       "    <tr>\n",
       "      <th>3</th>\n",
       "      <td>1.613849</td>\n",
       "      <td>1.159959</td>\n",
       "      <td>-1.698450</td>\n",
       "    </tr>\n",
       "    <tr>\n",
       "      <th>4</th>\n",
       "      <td>1.376544</td>\n",
       "      <td>-0.234457</td>\n",
       "      <td>-1.546142</td>\n",
       "    </tr>\n",
       "  </tbody>\n",
       "</table>\n",
       "</div>"
      ],
      "text/plain": [
       "          0         1         2\n",
       "0 -1.321908  0.782594 -1.913170\n",
       "1 -1.150019  1.816813 -2.002805\n",
       "2  1.320033 -0.607360 -1.545541\n",
       "3  1.613849  1.159959 -1.698450\n",
       "4  1.376544 -0.234457 -1.546142"
      ]
     },
     "execution_count": 73,
     "metadata": {},
     "output_type": "execute_result"
    }
   ],
   "source": [
    "df_pca.head()"
   ]
  },
  {
   "cell_type": "code",
   "execution_count": 86,
   "id": "4c27e1fa",
   "metadata": {},
   "outputs": [
    {
     "data": {
      "image/png": "[encoded data removed]",
      "text/plain": [
       "<Figure size 800x600 with 1 Axes>"
      ]
     },
     "metadata": {},
     "output_type": "display_data"
    },
    {
     "data": {
      "image/png": "[encoded data removed]",
      "text/plain": [
       "<Figure size 800x600 with 1 Axes>"
      ]
     },
     "metadata": {},
     "output_type": "display_data"
    }
   ],
   "source": [
    "inertia=[]\n",
    "silhouette_scores=[]\n",
    "k_values=range(2,11)\n",
    "for k in k_values:\n",
    "    kmeans=KMeans(n_clusters=k,random_state=42,n_init=10)\n",
    "    kmeans.fit(df_pca)\n",
    "    inertia.append(kmeans.inertia_)\n",
    "    silhouette_scores.append(silhouette_score(df_pca,kmeans.labels_))\n",
    "plt.figure(figsize=(8, 6))\n",
    "plt.plot(k_values, inertia, marker='o')\n",
    "plt.title('Elbow Method for Optimal k')\n",
    "plt.xlabel('Number of Clusters (k)')\n",
    "plt.ylabel('Inertia')\n",
    "plt.show()\n",
    "\n",
    "plt.figure(figsize=(8, 6))\n",
    "plt.plot(k_values, silhouette_scores, marker='o')\n",
    "plt.title('Silhouette Analysis for Optimal k')\n",
    "plt.xlabel('Number of Clusters (k)')\n",
    "plt.ylabel('Average Silhouette Score')\n",
    "plt.show()"
   ]
  },
  {
   "cell_type": "code",
   "execution_count": 113,
   "id": "0f23a040",
   "metadata": {},
   "outputs": [],
   "source": [
    "\n",
    "k = 4\n",
    "\n",
    "kmeans = KMeans(n_clusters=k, random_state=42, n_init=10)\n",
    "df['cluster'] = kmeans.fit_predict(df_pca)\n"
   ]
  },
  {
   "cell_type": "code",
   "execution_count": 114,
   "id": "e83f5869",
   "metadata": {},
   "outputs": [
    {
     "name": "stdout",
     "output_type": "stream",
     "text": [
      "               Age        Annual Income (k$)        Spending Score (1-100)  \\\n",
      "              mean median               mean median                   mean   \n",
      "cluster                                                                      \n",
      "0        49.437500   48.5          62.416667   62.5              29.208333   \n",
      "1        28.392857   29.5          60.428571   62.5              68.178571   \n",
      "2        47.803571   48.0          58.071429   55.5              34.875000   \n",
      "3        28.250000   28.0          62.000000   63.0              71.675000   \n",
      "\n",
      "                \n",
      "        median  \n",
      "cluster         \n",
      "0         32.0  \n",
      "1         73.0  \n",
      "2         39.5  \n",
      "3         73.0  \n"
     ]
    }
   ],
   "source": [
    "cluster_profiles = df.groupby('cluster').agg({\n",
    "    'Age': ['mean', 'median'],\n",
    "    'Annual Income (k$)': ['mean', 'median'],\n",
    "    'Spending Score (1-100)': ['mean', 'median'],\n",
    "    \n",
    "})\n",
    "print(cluster_profiles)"
   ]
  },
  {
   "cell_type": "code",
   "execution_count": 104,
   "id": "dbe86375",
   "metadata": {},
   "outputs": [],
   "source": [
    "label_map = {\n",
    "    0: 'Adult People- Less Income -Less Spending',\n",
    "    1: 'Adult People- Medium Income -Average Spending',\n",
    "    2: 'Adult People- HIgh Income -High Spending',\n",
    "    3: 'Adult People- High Income -Less Spending',\n",
    "    4: 'Young People- Less Income -High Spending',\n",
    "}\n",
    "df['cluster_label'] = df['cluster'].map(label_map)\n"
   ]
  },
  {
   "cell_type": "code",
   "execution_count": 115,
   "id": "f708c166",
   "metadata": {},
   "outputs": [],
   "source": [
    "X = df.drop(['cluster', 'cluster_label'], axis=1)\n",
    "y = df[['cluster']]\n"
   ]
  },
  {
   "cell_type": "code",
   "execution_count": 116,
   "id": "d131adf0",
   "metadata": {},
   "outputs": [],
   "source": [
    "\n",
    "from sklearn.model_selection import train_test_split\n",
    "from sklearn.preprocessing import StandardScaler\n",
    "from sklearn.metrics import accuracy_score, precision_score, recall_score, f1_score, classification_report\n",
    "from sklearn.metrics import accuracy_score\n"
   ]
  },
  {
   "cell_type": "code",
   "execution_count": 131,
   "id": "a369ce5e",
   "metadata": {},
   "outputs": [],
   "source": [
    "from sklearn.model_selection import train_test_split\n",
    "\n",
    "X_train, X_test, y_train, y_test = train_test_split(X, y, test_size=0.3, random_state=42)"
   ]
  },
  {
   "cell_type": "code",
   "execution_count": 132,
   "id": "1f4ab7a2",
   "metadata": {},
   "outputs": [],
   "source": [
    "from sklearn.neighbors import KNeighborsClassifier\n",
    "from sklearn.tree import DecisionTreeClassifier\n",
    "from sklearn.naive_bayes import GaussianNB\n",
    "from sklearn.pipeline import Pipeline\n",
    "\n"
   ]
  },
  {
   "cell_type": "code",
   "execution_count": 133,
   "id": "e0ec5ef5",
   "metadata": {},
   "outputs": [],
   "source": [
    "pipeline={\n",
    "    'KNN':Pipeline([\n",
    "      \n",
    "        ('classifier',KNeighborsClassifier())\n",
    "    ]),\n",
    "    'Decsion tree':Pipeline([\n",
    "        \n",
    "        ('classifier',DecisionTreeClassifier(max_depth=5,random_state=42, splitter='random',criterion='entropy'))\n",
    "    \n",
    "    ]),\n",
    "    'Naive Byes':Pipeline([\n",
    "    \n",
    "        ('classifier',GaussianNB(var_smoothing=1e-8))\n",
    "    ])\n",
    "}"
   ]
  },
  {
   "cell_type": "code",
   "execution_count": 140,
   "id": "bb8986e9",
   "metadata": {},
   "outputs": [],
   "source": [
    "\n",
    "from sklearn.model_selection import GridSearchCV\n",
    "\n",
    "\n",
    "\n",
    "param_grids = {\n",
    "    'KNN': {\n",
    "        'classifier__n_neighbors': [3, 5, 7, 9,11,13,15],\n",
    "        'classifier__weights': ['distance'],\n",
    "        'classifier__metric': ['euclidean', 'manhattan', 'minkowski']\n",
    "\n",
    "    },\n",
    "    'Decsion tree': {\n",
    "        'classifier__max_depth': [3, 5, 10],\n",
    "        'classifier__criterion': ['gini', 'entropy'],\n",
    "        'classifier__splitter': ['best', 'random']\n",
    "    },\n",
    "    'Naive Byes': {\n",
    "        'classifier__var_smoothing': [1e-9, 1e-8, 1e-7]\n",
    "    }\n",
    "}"
   ]
  },
  {
   "cell_type": "code",
   "execution_count": 141,
   "id": "426031d6",
   "metadata": {},
   "outputs": [
    {
     "name": "stderr",
     "output_type": "stream",
     "text": [
      "d:\\Downloads\\Week\\.venv\\Lib\\site-packages\\sklearn\\neighbors\\_classification.py:239: DataConversionWarning: A column-vector y was passed when a 1d array was expected. Please change the shape of y to (n_samples,), for example using ravel().\n",
      "  return self._fit(X, y)\n"
     ]
    },
    {
     "name": "stdout",
     "output_type": "stream",
     "text": [
      "          Model  Train Accuracy  Test Accuracy  CV Accuracy  \\\n",
      "2    Naive Byes        0.992857       0.983333     0.992857   \n",
      "1  Decsion tree        1.000000       0.950000     0.978571   \n",
      "0           KNN        1.000000       0.716667     0.657143   \n",
      "\n",
      "                                         Best Params  \n",
      "2               {'classifier__var_smoothing': 1e-09}  \n",
      "1  {'classifier__criterion': 'gini', 'classifier_...  \n",
      "0  {'classifier__metric': 'manhattan', 'classifie...  \n"
     ]
    },
    {
     "name": "stderr",
     "output_type": "stream",
     "text": [
      "d:\\Downloads\\Week\\.venv\\Lib\\site-packages\\sklearn\\utils\\validation.py:1406: DataConversionWarning: A column-vector y was passed when a 1d array was expected. Please change the shape of y to (n_samples, ), for example using ravel().\n",
      "  y = column_or_1d(y, warn=True)\n"
     ]
    }
   ],
   "source": [
    "results=[]\n",
    "for name in pipeline:\n",
    "    grid = GridSearchCV(pipeline[name], param_grids[name], cv=5, scoring='accuracy', n_jobs=-1)\n",
    "    grid.fit(X_train, y_train)\n",
    "\n",
    "    best_model = grid.best_estimator_\n",
    "    train_acc = accuracy_score(y_train, best_model.predict(X_train))\n",
    "    test_acc = accuracy_score(y_test, best_model.predict(X_test))\n",
    "    cv_acc = grid.best_score_\n",
    "    \n",
    "    results.append((name, train_acc, test_acc, cv_acc, grid.best_params_))\n",
    "\n",
    "# Create a result DataFrame\n",
    "results_df = pd.DataFrame(results, columns=[\"Model\", \"Train Accuracy\", \"Test Accuracy\", \"CV Accuracy\", \"Best Params\"])\n",
    "results_df.sort_values(by=\"CV Accuracy\", ascending=False, inplace=True)\n",
    "\n",
    "print(results_df)"
   ]
  }
 ],
 "metadata": {
  "kernelspec": {
   "display_name": ".venv",
   "language": "python",
   "name": "python3"
  },
  "language_info": {
   "codemirror_mode": {
    "name": "ipython",
    "version": 3
   },
   "file_extension": ".py",
   "mimetype": "text/x-python",
   "name": "python",
   "nbconvert_exporter": "python",
   "pygments_lexer": "ipython3",
   "version": "3.13.5"
  }
 },
 "nbformat": 4,
 "nbformat_minor": 5
}
